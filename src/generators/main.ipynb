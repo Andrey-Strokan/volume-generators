{
 "cells": [
  {
   "cell_type": "code",
   "execution_count": 4,
   "id": "4b67106e-ee07-4e31-9d11-f2bfa9ccca5f",
   "metadata": {},
   "outputs": [],
   "source": [
    "import helpers\n",
    "import generators.cube\n",
    "import generators.numbers"
   ]
  },
  {
   "cell_type": "code",
   "execution_count": 9,
   "id": "1964f6b4-693f-47e8-9b6b-fec989a3fce4",
   "metadata": {},
   "outputs": [
    {
     "data": {
      "application/vnd.jupyter.widget-view+json": {
       "model_id": "bdd2ccb2d2d341ec9bea0178fd3e5ca1",
       "version_major": 2,
       "version_minor": 0
      },
      "text/plain": [
       "interactive(children=(IntSlider(value=25, description='X slice', max=49), IntSlider(value=25, description='Y s…"
      ]
     },
     "metadata": {},
     "output_type": "display_data"
    }
   ],
   "source": [
    "# CUBE\n",
    "volume_size = 50\n",
    "cube_size = 30\n",
    "volume = generators.cube.generate(volume_size, cube_size)\n",
    "helpers.interactive_slicer(volume)\n",
    "\n",
    "output_filename = f'cube_{volume_size}_{cube_size}.raw'\n",
    "volume.tofile(output_filename)"
   ]
  },
  {
   "cell_type": "code",
   "execution_count": 7,
   "id": "17054b9a-324d-4a62-9c7b-14860f205ad5",
   "metadata": {},
   "outputs": [
    {
     "data": {
      "application/vnd.jupyter.widget-view+json": {
       "model_id": "faadf81807954b648fc8114f1731244b",
       "version_major": 2,
       "version_minor": 0
      },
      "text/plain": [
       "interactive(children=(IntSlider(value=128, description='X slice', max=255), IntSlider(value=128, description='…"
      ]
     },
     "metadata": {},
     "output_type": "display_data"
    }
   ],
   "source": [
    "# NUMBERS\n",
    "volume_size = 256\n",
    "volume = generators.numbers.generate(volume_size)\n",
    "helpers.interactive_slicer(volume)\n",
    "\n",
    "output_filename = f'numbers_{volume_size}.raw'\n",
    "volume.tofile(output_filename)"
   ]
  },
  {
   "cell_type": "code",
   "execution_count": null,
   "id": "772815e6-b221-46a3-83c3-7b169bcd20ec",
   "metadata": {},
   "outputs": [],
   "source": []
  }
 ],
 "metadata": {
  "kernelspec": {
   "display_name": "Python 3 (ipykernel)",
   "language": "python",
   "name": "python3"
  },
  "language_info": {
   "codemirror_mode": {
    "name": "ipython",
    "version": 3
   },
   "file_extension": ".py",
   "mimetype": "text/x-python",
   "name": "python",
   "nbconvert_exporter": "python",
   "pygments_lexer": "ipython3",
   "version": "3.9.6"
  }
 },
 "nbformat": 4,
 "nbformat_minor": 5
}
