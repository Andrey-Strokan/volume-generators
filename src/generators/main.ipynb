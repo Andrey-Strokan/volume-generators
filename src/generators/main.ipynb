{
 "cells": [
  {
   "cell_type": "code",
   "execution_count": 1,
   "id": "4b67106e-ee07-4e31-9d11-f2bfa9ccca5f",
   "metadata": {},
   "outputs": [],
   "source": [
    "import helpers\n",
    "import generators.cube\n",
    "import generators.hollow_cube\n",
    "import generators.numbers"
   ]
  },
  {
   "cell_type": "code",
   "execution_count": 2,
   "id": "1964f6b4-693f-47e8-9b6b-fec989a3fce4",
   "metadata": {},
   "outputs": [
    {
     "data": {
      "application/vnd.jupyter.widget-view+json": {
       "model_id": "2be867435ec9437c9de59763144d894a",
       "version_major": 2,
       "version_minor": 0
      },
      "text/plain": [
       "interactive(children=(IntSlider(value=256, description='X slice', max=511), IntSlider(value=256, description='…"
      ]
     },
     "metadata": {},
     "output_type": "display_data"
    }
   ],
   "source": [
    "# CUBE\n",
    "volume_size_x = 512\n",
    "volume_size_y = 512\n",
    "volume_size_z = 713\n",
    "cube_size_x = 140\n",
    "cube_size_y = 100\n",
    "cube_size_z = 200\n",
    "volume = generators.cube.generate(volume_size_x, volume_size_y, volume_size_z, cube_size_x, cube_size_y, cube_size_z)\n",
    "helpers.interactive_slicer(volume)\n",
    "\n",
    "output_filename = f'cube_{volume_size_x}_{volume_size_y}_{volume_size_z}_{cube_size_x}_{cube_size_y}_{cube_size_z}.raw'\n",
    "volume.tofile(output_filename)"
   ]
  },
  {
   "cell_type": "code",
   "execution_count": 3,
   "id": "593450dc-89b2-4a15-9ff4-4d1a5ba47379",
   "metadata": {},
   "outputs": [
    {
     "data": {
      "application/vnd.jupyter.widget-view+json": {
       "model_id": "326023d7d161497a8bac65292b40c9fd",
       "version_major": 2,
       "version_minor": 0
      },
      "text/plain": [
       "interactive(children=(IntSlider(value=256, description='X slice', max=511), IntSlider(value=256, description='…"
      ]
     },
     "metadata": {},
     "output_type": "display_data"
    }
   ],
   "source": [
    "# HOLLOW CUBE\n",
    "volume_size_x = 512\n",
    "volume_size_y = 512\n",
    "volume_size_z = 713\n",
    "cube_size_x = 140\n",
    "cube_size_y = 100\n",
    "cube_size_z = 200\n",
    "thickness = 10\n",
    "volume = generators.hollow_cube.generate(volume_size_x, volume_size_y, volume_size_z, cube_size_x, cube_size_y, cube_size_z, thickness)\n",
    "helpers.interactive_slicer(volume)\n",
    "\n",
    "output_filename = f'hollow_cube_{volume_size_x}_{volume_size_y}_{volume_size_z}_{cube_size_x}_{cube_size_y}_{cube_size_z}_{thickness}.raw'\n",
    "volume.tofile(output_filename)"
   ]
  },
  {
   "cell_type": "code",
   "execution_count": 4,
   "id": "17054b9a-324d-4a62-9c7b-14860f205ad5",
   "metadata": {},
   "outputs": [
    {
     "data": {
      "application/vnd.jupyter.widget-view+json": {
       "model_id": "fbdb61d6749a4fa1b129cbd076559dbe",
       "version_major": 2,
       "version_minor": 0
      },
      "text/plain": [
       "interactive(children=(IntSlider(value=256, description='X slice', max=511), IntSlider(value=256, description='…"
      ]
     },
     "metadata": {},
     "output_type": "display_data"
    }
   ],
   "source": [
    "# NUMBERS\n",
    "volume_size_x = 512\n",
    "volume_size_y = 512\n",
    "volume_size_z = 713\n",
    "volume = generators.numbers.generate(volume_size_x, volume_size_y, volume_size_z)\n",
    "helpers.interactive_slicer(volume)\n",
    "\n",
    "output_filename = f'numbers_{volume_size_x}_{volume_size_y}_{volume_size_z}.raw'\n",
    "volume.tofile(output_filename)"
   ]
  },
  {
   "cell_type": "code",
   "execution_count": null,
   "id": "772815e6-b221-46a3-83c3-7b169bcd20ec",
   "metadata": {},
   "outputs": [],
   "source": []
  }
 ],
 "metadata": {
  "kernelspec": {
   "display_name": "Python 3 (ipykernel)",
   "language": "python",
   "name": "python3"
  },
  "language_info": {
   "codemirror_mode": {
    "name": "ipython",
    "version": 3
   },
   "file_extension": ".py",
   "mimetype": "text/x-python",
   "name": "python",
   "nbconvert_exporter": "python",
   "pygments_lexer": "ipython3",
   "version": "3.9.6"
  }
 },
 "nbformat": 4,
 "nbformat_minor": 5
}
